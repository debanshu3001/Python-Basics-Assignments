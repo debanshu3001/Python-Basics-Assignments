{
 "cells": [
  {
   "cell_type": "markdown",
   "id": "702f0191",
   "metadata": {},
   "source": [
    "# Explain the key features of Python that make it a popular choice for programming?\n",
    "\n",
    "\n",
    "\n"
   ]
  },
  {
   "cell_type": "raw",
   "id": "6d897e70",
   "metadata": {},
   "source": [
    "Python is a very powerful and versatile programming language that has gained immence popularity for several reasons. some key features are\n",
    "1.Python is very easy to learn, it has a smooth learning curve and straightforward syntax.\n",
    "2.Python is user friendly, anyone can learn to code using python.\n",
    "3.Python is available under an open source licence for both personal and commercial purpose.\n",
    "4.Python have extensive standard library, these pre built library significantly reduce the efforts required to built a project.\n",
    "5.Python runs on various platforms(Winndows, macOS, Linux), making it platform independance and highly accessible.\n",
    "6.Python is dynamically typed, it mens no need to declare variable types.\n",
    "7.python has a vibrant community,active forums and extenssive documentation. its ecosystem includes libraries for dada science, web development, automation, abd more."
   ]
  },
  {
   "cell_type": "markdown",
   "id": "c675b44b",
   "metadata": {},
   "source": [
    " # Describe the role of predefined keywords in python and provide an example how they are usedin a program"
   ]
  },
  {
   "cell_type": "raw",
   "id": "fddbd09a",
   "metadata": {},
   "source": [
    "Keywords are predefined, reserved words that have special meanings to the Python interpreter. They define the language’s syntax and structure. We cannot use keywords as variable names, function names, or any other identifiers.\n"
   ]
  },
  {
   "cell_type": "code",
   "execution_count": 2,
   "id": "a2ce8f0a",
   "metadata": {},
   "outputs": [
    {
     "name": "stdout",
     "output_type": "stream",
     "text": [
      "You are an adult.\n"
     ]
    }
   ],
   "source": [
    "#if, else, These are conditional statements used for decision-making. For example\n",
    "\n",
    "age = 18\n",
    "if age >= 18:\n",
    "    print(\"You are an adult.\")\n",
    "else:\n",
    "    print(\"You are not an adult yet.\")\n"
   ]
  },
  {
   "cell_type": "code",
   "execution_count": 5,
   "id": "87b5efed",
   "metadata": {},
   "outputs": [
    {
     "name": "stdout",
     "output_type": "stream",
     "text": [
      "0\n",
      "1\n",
      "2\n",
      "3\n",
      "4\n"
     ]
    }
   ],
   "source": [
    "#while, for: These are loop keywords that enable iteration over a sequence of elements. For example\n",
    "\n",
    "for i in range(5):\n",
    "  print(i)\n",
    "\n"
   ]
  },
  {
   "cell_type": "markdown",
   "id": "3774cf4b",
   "metadata": {},
   "source": [
    "# Compare and contrast mutable and immutable objects in python with example"
   ]
  },
  {
   "cell_type": "raw",
   "id": "2efc2fd2",
   "metadata": {},
   "source": [
    "Mutable objects are those whose state or value can be changed after creation. This means that if you modify a mutable object.\n",
    "1.Lists can be modified in place by adding, removing, or changing elements.\n",
    "2.Dictionaries can have their keys and values updated, added, or removed.\n",
    "3.Sets can have elements added or removed."
   ]
  },
  {
   "cell_type": "code",
   "execution_count": 6,
   "id": "62e1f02b",
   "metadata": {},
   "outputs": [
    {
     "name": "stdout",
     "output_type": "stream",
     "text": [
      "Original list: [1, 2, 3]\n",
      "Modified list: [1, 2, 3, 4]\n"
     ]
    }
   ],
   "source": [
    "# List example\n",
    "my_list = [1, 2, 3]\n",
    "print(\"Original list:\", my_list)\n",
    "\n",
    "my_list.append(4)  # Modify the list in place\n",
    "print(\"Modified list:\", my_list)"
   ]
  },
  {
   "cell_type": "raw",
   "id": "445bc77d",
   "metadata": {},
   "source": [
    "Immutable objects, once created, cannot be changed.\n",
    "\n",
    "1.Strings cannot be changed after creation. Any modification creates a new string.\n",
    "2.Tuples cannot be modified; you can’t change their elements or size after creation.\n",
    "3.Integers are immutable; operations that appear to modify an integer actually create a new integer."
   ]
  },
  {
   "cell_type": "code",
   "execution_count": 8,
   "id": "c571d97c",
   "metadata": {},
   "outputs": [
    {
     "name": "stdout",
     "output_type": "stream",
     "text": [
      "Original tuple: (1, 2, 3)\n",
      "Modified tuple: (1, 2, 3, 4)\n"
     ]
    }
   ],
   "source": [
    "# Tuple example\n",
    "my_tuple = (1, 2, 3)\n",
    "print(\"Original tuple:\", my_tuple)\n",
    "\n",
    "new_tuple = my_tuple + (4,)  # Create a new tuple\n",
    "print(\"Modified tuple:\", new_tuple)"
   ]
  },
  {
   "cell_type": "markdown",
   "id": "c32748e2",
   "metadata": {},
   "source": [
    "# Discuss different types of operators in python and provide example how they are used"
   ]
  },
  {
   "cell_type": "markdown",
   "id": "5acfad40",
   "metadata": {},
   "source": [
    "# Arithmetic Operators"
   ]
  },
  {
   "cell_type": "code",
   "execution_count": 14,
   "id": "166c4121",
   "metadata": {},
   "outputs": [
    {
     "name": "stdout",
     "output_type": "stream",
     "text": [
      "12\n",
      "8\n",
      "20\n",
      "5.0\n",
      "0\n"
     ]
    }
   ],
   "source": [
    "a = 10\n",
    "b = 2\n",
    "\n",
    "\n",
    "print(a + b)    # Addition\n",
    "\n",
    "print(a - b)     #Substraction\n",
    "\n",
    "print(a * b)     #Multiplecatiobn\n",
    "\n",
    "print(a / b)    #Division\n",
    "\n",
    "print(a % b)    #Modulus\n",
    "\n"
   ]
  },
  {
   "cell_type": "markdown",
   "id": "1610aaff",
   "metadata": {},
   "source": [
    "# Comparison Operators"
   ]
  },
  {
   "cell_type": "markdown",
   "id": "80aca262",
   "metadata": {},
   "source": [
    "These operators compare two values and return a Boolean result (True or False)"
   ]
  },
  {
   "cell_type": "code",
   "execution_count": 16,
   "id": "5cc03b19",
   "metadata": {},
   "outputs": [
    {
     "name": "stdout",
     "output_type": "stream",
     "text": [
      "False\n",
      "True\n",
      "True\n",
      "False\n",
      "True\n"
     ]
    }
   ],
   "source": [
    "a = 5\n",
    "b = 3\n",
    "#Equal to (==)\n",
    "print(a == b) \n",
    "\n",
    "\n",
    "#Not equal to (!=)\n",
    "print(a != b) \n",
    "\n",
    "\n",
    "#Greater than (>)\n",
    "print(a > b) \n",
    "\n",
    "\n",
    "#Less than (<)\n",
    "print(a < b) \n",
    "\n",
    "\n",
    "#Greater than or equal to (>=)\n",
    "print(a >= b) "
   ]
  },
  {
   "cell_type": "markdown",
   "id": "83aadce5",
   "metadata": {},
   "source": [
    "# Logical Operators"
   ]
  },
  {
   "cell_type": "markdown",
   "id": "7dce9fd9",
   "metadata": {},
   "source": [
    "These operators are used to combine conditional statements"
   ]
  },
  {
   "cell_type": "code",
   "execution_count": 18,
   "id": "b8d5c750",
   "metadata": {},
   "outputs": [
    {
     "name": "stdout",
     "output_type": "stream",
     "text": [
      "False\n",
      "True\n",
      "False\n"
     ]
    }
   ],
   "source": [
    "#(and)\n",
    "a = True\n",
    "b = False\n",
    "print(a and b)\n",
    "\n",
    "#(or)\n",
    "a = True\n",
    "b = False\n",
    "print(a or b)\n",
    "\n",
    "#(not)\n",
    "a = True\n",
    "print(not a)"
   ]
  },
  {
   "cell_type": "markdown",
   "id": "8994be89",
   "metadata": {},
   "source": [
    "# Assignment Operators"
   ]
  },
  {
   "cell_type": "markdown",
   "id": "e739dc4d",
   "metadata": {},
   "source": [
    "These operators are used to assign values to variables."
   ]
  },
  {
   "cell_type": "code",
   "execution_count": 21,
   "id": "1b142dc3",
   "metadata": {},
   "outputs": [
    {
     "name": "stdout",
     "output_type": "stream",
     "text": [
      "8\n",
      "2\n",
      "15\n",
      "2.5\n"
     ]
    }
   ],
   "source": [
    "#Assignment (=)\n",
    "a = 5\n",
    "\n",
    "\n",
    "#Addition Assignment (+=)\n",
    "a = 5\n",
    "a += 3 \n",
    "print(a)\n",
    "\n",
    "\n",
    "#Subtraction Assignment (-=)\n",
    "a = 5\n",
    "a -= 3 \n",
    "print(a)\n",
    "\n",
    "\n",
    "#Multiplication Assignment (*=)\n",
    "a = 5\n",
    "a *= 3\n",
    "print(a)\n",
    "\n",
    "#Division Assignment (/=)\n",
    "a = 5\n",
    "a /= 2\n",
    "print(a)"
   ]
  },
  {
   "cell_type": "markdown",
   "id": "4a6209e9",
   "metadata": {},
   "source": [
    "# Explain the concept of type casting concept in python with example"
   ]
  },
  {
   "cell_type": "markdown",
   "id": "9e1dc39f",
   "metadata": {},
   "source": [
    "Type casting, also known as type conversion, is the process of converting a variable from one data type to another. In Python, this is often necessary because different operations and functions require specific data types. Python provides several built-in functions for type casting, allowing you to explicitly convert between types."
   ]
  },
  {
   "cell_type": "markdown",
   "id": "773357d7",
   "metadata": {},
   "source": [
    "1. Implicit Type Casting (Automatic Type Conversion)\n",
    "Implicit type casting, also known as automatic type conversion, occurs when Python automatically converts one data type to another. This typically happens when operations involve mixed data types, and Python promotes the data type to avoid losing information or causing errors."
   ]
  },
  {
   "cell_type": "code",
   "execution_count": 22,
   "id": "a9996a6e",
   "metadata": {},
   "outputs": [
    {
     "name": "stdout",
     "output_type": "stream",
     "text": [
      "7.0\n"
     ]
    }
   ],
   "source": [
    "# Implicit type casting example\n",
    "a = 5         \n",
    "b = 2.0      \n",
    "\n",
    "# Adding an integer and a float\n",
    "result = a + b  # Python automatically converts 'a' to float\n",
    "print(result)  \n"
   ]
  },
  {
   "cell_type": "markdown",
   "id": "eaa81b89",
   "metadata": {},
   "source": [
    "2. Explicit Type Casting (Manual Type Conversion)\n",
    "Explicit type casting is when you manually convert one data type to another using built-in functions. This type of casting is done using specific functions designed for type conversion."
   ]
  },
  {
   "cell_type": "code",
   "execution_count": 24,
   "id": "a064244f",
   "metadata": {},
   "outputs": [],
   "source": [
    "# int() Convert float to int\n",
    "float_value = 9.99\n",
    "int_value = int(float_value)  # float_value will be 10.0\n",
    "\n",
    "\n",
    "# str()3 Convert int to string\n",
    "int_value = 42\n",
    "str_value = str(int_value)  # str_value will be \"42\"\n",
    "\n",
    "\n",
    "# list() Convert tuple to list\n",
    "tuple_value = (1, 2, 3)\n",
    "list_value = list(tuple_value)  # list_value will be [1, 2, 3]\n"
   ]
  },
  {
   "cell_type": "code",
   "execution_count": null,
   "id": "c1a4fd2e",
   "metadata": {},
   "outputs": [],
   "source": []
  }
 ],
 "metadata": {
  "kernelspec": {
   "display_name": "Python 3 (ipykernel)",
   "language": "python",
   "name": "python3"
  },
  "language_info": {
   "codemirror_mode": {
    "name": "ipython",
    "version": 3
   },
   "file_extension": ".py",
   "mimetype": "text/x-python",
   "name": "python",
   "nbconvert_exporter": "python",
   "pygments_lexer": "ipython3",
   "version": "3.11.5"
  }
 },
 "nbformat": 4,
 "nbformat_minor": 5
}
